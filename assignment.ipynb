{
 "cells": [
  {
   "cell_type": "markdown",
   "metadata": {},
   "source": [
    "# Pre-requisites\n",
    "- WSL\n",
    "- Miniconda3 "
   ]
  },
  {
   "cell_type": "markdown",
   "metadata": {},
   "source": [
    "# Setup environment\n",
    "- Create conda env `conda create langchain python=3.11`\n",
    "- Set the \"langchain\" env that has been just created as the running env in VS code\n"
   ]
  },
  {
   "cell_type": "markdown",
   "metadata": {},
   "source": [
    "Install langchain and openai package"
   ]
  },
  {
   "cell_type": "code",
   "execution_count": 37,
   "metadata": {},
   "outputs": [
    {
     "name": "stdout",
     "output_type": "stream",
     "text": [
      "Requirement already satisfied: langchain in /home/tuan/miniconda3/envs/langchain/lib/python3.11/site-packages (0.3.1)\n",
      "Requirement already satisfied: openai in /home/tuan/miniconda3/envs/langchain/lib/python3.11/site-packages (1.51.0)\n",
      "Requirement already satisfied: PyYAML>=5.3 in /home/tuan/miniconda3/envs/langchain/lib/python3.11/site-packages (from langchain) (6.0.2)\n",
      "Requirement already satisfied: SQLAlchemy<3,>=1.4 in /home/tuan/miniconda3/envs/langchain/lib/python3.11/site-packages (from langchain) (2.0.35)\n",
      "Requirement already satisfied: aiohttp<4.0.0,>=3.8.3 in /home/tuan/miniconda3/envs/langchain/lib/python3.11/site-packages (from langchain) (3.10.8)\n",
      "Requirement already satisfied: langchain-core<0.4.0,>=0.3.6 in /home/tuan/miniconda3/envs/langchain/lib/python3.11/site-packages (from langchain) (0.3.7)\n",
      "Requirement already satisfied: langchain-text-splitters<0.4.0,>=0.3.0 in /home/tuan/miniconda3/envs/langchain/lib/python3.11/site-packages (from langchain) (0.3.0)\n",
      "Requirement already satisfied: langsmith<0.2.0,>=0.1.17 in /home/tuan/miniconda3/envs/langchain/lib/python3.11/site-packages (from langchain) (0.1.131)\n",
      "Requirement already satisfied: numpy<2,>=1 in /home/tuan/miniconda3/envs/langchain/lib/python3.11/site-packages (from langchain) (1.26.4)\n",
      "Requirement already satisfied: pydantic<3.0.0,>=2.7.4 in /home/tuan/miniconda3/envs/langchain/lib/python3.11/site-packages (from langchain) (2.9.2)\n",
      "Requirement already satisfied: requests<3,>=2 in /home/tuan/miniconda3/envs/langchain/lib/python3.11/site-packages (from langchain) (2.32.3)\n",
      "Requirement already satisfied: tenacity!=8.4.0,<9.0.0,>=8.1.0 in /home/tuan/miniconda3/envs/langchain/lib/python3.11/site-packages (from langchain) (8.5.0)\n",
      "Requirement already satisfied: anyio<5,>=3.5.0 in /home/tuan/miniconda3/envs/langchain/lib/python3.11/site-packages (from openai) (4.6.0)\n",
      "Requirement already satisfied: distro<2,>=1.7.0 in /home/tuan/miniconda3/envs/langchain/lib/python3.11/site-packages (from openai) (1.9.0)\n",
      "Requirement already satisfied: httpx<1,>=0.23.0 in /home/tuan/miniconda3/envs/langchain/lib/python3.11/site-packages (from openai) (0.27.2)\n",
      "Requirement already satisfied: jiter<1,>=0.4.0 in /home/tuan/miniconda3/envs/langchain/lib/python3.11/site-packages (from openai) (0.5.0)\n",
      "Requirement already satisfied: sniffio in /home/tuan/miniconda3/envs/langchain/lib/python3.11/site-packages (from openai) (1.3.1)\n",
      "Requirement already satisfied: tqdm>4 in /home/tuan/miniconda3/envs/langchain/lib/python3.11/site-packages (from openai) (4.66.5)\n",
      "Requirement already satisfied: typing-extensions<5,>=4.11 in /home/tuan/miniconda3/envs/langchain/lib/python3.11/site-packages (from openai) (4.12.2)\n",
      "Requirement already satisfied: aiohappyeyeballs>=2.3.0 in /home/tuan/miniconda3/envs/langchain/lib/python3.11/site-packages (from aiohttp<4.0.0,>=3.8.3->langchain) (2.4.3)\n",
      "Requirement already satisfied: aiosignal>=1.1.2 in /home/tuan/miniconda3/envs/langchain/lib/python3.11/site-packages (from aiohttp<4.0.0,>=3.8.3->langchain) (1.3.1)\n",
      "Requirement already satisfied: attrs>=17.3.0 in /home/tuan/miniconda3/envs/langchain/lib/python3.11/site-packages (from aiohttp<4.0.0,>=3.8.3->langchain) (24.2.0)\n",
      "Requirement already satisfied: frozenlist>=1.1.1 in /home/tuan/miniconda3/envs/langchain/lib/python3.11/site-packages (from aiohttp<4.0.0,>=3.8.3->langchain) (1.4.1)\n",
      "Requirement already satisfied: multidict<7.0,>=4.5 in /home/tuan/miniconda3/envs/langchain/lib/python3.11/site-packages (from aiohttp<4.0.0,>=3.8.3->langchain) (6.1.0)\n",
      "Requirement already satisfied: yarl<2.0,>=1.12.0 in /home/tuan/miniconda3/envs/langchain/lib/python3.11/site-packages (from aiohttp<4.0.0,>=3.8.3->langchain) (1.13.1)\n",
      "Requirement already satisfied: idna>=2.8 in /home/tuan/miniconda3/envs/langchain/lib/python3.11/site-packages (from anyio<5,>=3.5.0->openai) (3.10)\n",
      "Requirement already satisfied: certifi in /home/tuan/miniconda3/envs/langchain/lib/python3.11/site-packages (from httpx<1,>=0.23.0->openai) (2024.8.30)\n",
      "Requirement already satisfied: httpcore==1.* in /home/tuan/miniconda3/envs/langchain/lib/python3.11/site-packages (from httpx<1,>=0.23.0->openai) (1.0.6)\n",
      "Requirement already satisfied: h11<0.15,>=0.13 in /home/tuan/miniconda3/envs/langchain/lib/python3.11/site-packages (from httpcore==1.*->httpx<1,>=0.23.0->openai) (0.14.0)\n",
      "Requirement already satisfied: jsonpatch<2.0,>=1.33 in /home/tuan/miniconda3/envs/langchain/lib/python3.11/site-packages (from langchain-core<0.4.0,>=0.3.6->langchain) (1.33)\n",
      "Requirement already satisfied: packaging<25,>=23.2 in /home/tuan/miniconda3/envs/langchain/lib/python3.11/site-packages (from langchain-core<0.4.0,>=0.3.6->langchain) (24.1)\n",
      "Requirement already satisfied: orjson<4.0.0,>=3.9.14 in /home/tuan/miniconda3/envs/langchain/lib/python3.11/site-packages (from langsmith<0.2.0,>=0.1.17->langchain) (3.10.7)\n",
      "Requirement already satisfied: requests-toolbelt<2.0.0,>=1.0.0 in /home/tuan/miniconda3/envs/langchain/lib/python3.11/site-packages (from langsmith<0.2.0,>=0.1.17->langchain) (1.0.0)\n",
      "Requirement already satisfied: annotated-types>=0.6.0 in /home/tuan/miniconda3/envs/langchain/lib/python3.11/site-packages (from pydantic<3.0.0,>=2.7.4->langchain) (0.7.0)\n",
      "Requirement already satisfied: pydantic-core==2.23.4 in /home/tuan/miniconda3/envs/langchain/lib/python3.11/site-packages (from pydantic<3.0.0,>=2.7.4->langchain) (2.23.4)\n",
      "Requirement already satisfied: charset-normalizer<4,>=2 in /home/tuan/miniconda3/envs/langchain/lib/python3.11/site-packages (from requests<3,>=2->langchain) (3.3.2)\n",
      "Requirement already satisfied: urllib3<3,>=1.21.1 in /home/tuan/miniconda3/envs/langchain/lib/python3.11/site-packages (from requests<3,>=2->langchain) (2.2.3)\n",
      "Requirement already satisfied: greenlet!=0.4.17 in /home/tuan/miniconda3/envs/langchain/lib/python3.11/site-packages (from SQLAlchemy<3,>=1.4->langchain) (3.1.1)\n",
      "Requirement already satisfied: jsonpointer>=1.9 in /home/tuan/miniconda3/envs/langchain/lib/python3.11/site-packages (from jsonpatch<2.0,>=1.33->langchain-core<0.4.0,>=0.3.6->langchain) (3.0.0)\n"
     ]
    }
   ],
   "source": [
    "! pip install langchain openai"
   ]
  },
  {
   "cell_type": "markdown",
   "metadata": {},
   "source": [
    "# Init variables"
   ]
  },
  {
   "cell_type": "markdown",
   "metadata": {},
   "source": [
    "You need to set value of `OPENAI_API_KEY` that you get from the training team in the .env file"
   ]
  },
  {
   "cell_type": "code",
   "execution_count": 38,
   "metadata": {},
   "outputs": [],
   "source": [
    "import openai, os\n",
    "from dotenv import load_dotenv\n",
    "\n",
    "load_dotenv()\n",
    "openai.api_type = \"azure\"\n",
    "openai.api_version = \"2023-07-01-preview\""
   ]
  },
  {
   "cell_type": "markdown",
   "metadata": {},
   "source": [
    "# Overviews\n",
    "The BonBon FAQ.pdf file contains frequently asked questions and answers for customer support scenario. The topics are around IT related issue troubleshooting such as networking, software, hardware. You are requested to provide a solution to build a chat bot capable of answering the user questions with LangChain."
   ]
  },
  {
   "cell_type": "markdown",
   "metadata": {},
   "source": [
    "## Assignment 1: Document Indexing (mandatory)"
   ]
  },
  {
   "cell_type": "markdown",
   "metadata": {},
   "source": [
    "- The content of BonBon FAQ.pdf should be indexed to the local Chroma vector DB from where the chatbot can lookup the appropriate information to answer questions.\n",
    "- Should use some embedding model such as Azure Open AI text-embedding-ada-002 to create vectors, feel free to use any other open source embedding model if it works."
   ]
  },
  {
   "cell_type": "code",
   "execution_count": 39,
   "metadata": {},
   "outputs": [
    {
     "name": "stdout",
     "output_type": "stream",
     "text": [
      "[Document(metadata={'page': 3, 'source': 'data/BonBon FAQ.pdf'}, page_content=\".  \\n• Remember, the priority levels may vary based on the organization's policies and the nature \\nof the incident. It's important to have well -defined criteria for determining the priority of \\nincidents so that the Service Desk team can effectively allocate resour ces and provide timely \\nsupport.  \\n \\nFrequently Asked Questions:  \\n \\n1) Q: How do I reset my password?  \\nA: Go to “Where to Reset my Password for which application” web page @ the following link – \\nwww.anycorp.intranet.passwordreset/com . There you will be able to select application for which you \\nneed to reset your password and will receive further instructions.\"), Document(metadata={'page': 3, 'source': 'data/BonBon FAQ.pdf'}, page_content=\".  \\n• Remember, the priority levels may vary based on the organization's policies and the nature \\nof the incident. It's important to have well -defined criteria for determining the priority of \\nincidents so that the Service Desk team can effectively allocate resour ces and provide timely \\nsupport.  \\n \\nFrequently Asked Questions:  \\n \\n1) Q: How do I reset my password?  \\nA: Go to “Where to Reset my Password for which application” web page @ the following link – \\nwww.anycorp.intranet.passwordreset/com . There you will be able to select application for which you \\nneed to reset your password and will receive further instructions.\")]\n"
     ]
    }
   ],
   "source": [
    "from langchain.document_loaders import PyPDFLoader\n",
    "from langchain.document_loaders import DirectoryLoader\n",
    "from langchain.text_splitter import RecursiveCharacterTextSplitter\n",
    "from langchain_openai import AzureOpenAIEmbeddings\n",
    "from langchain_chroma import Chroma\n",
    "\n",
    "OPENAI_API_KEY = os.getenv(\"OPENAI_API_KEY\")\n",
    "OPENAI_DEPLOYMENT_ENDPOINT = os.getenv(\"AZURE_OPENAI_ENDPOINT\")\n",
    "OPENAI_DEPLOYMENT_VERSION = \"2024-06-01\"\n",
    "OPENAI_EMBEDDING_MODEL_NAME = \"text-embedding-ada-002\"\n",
    "\n",
    "# Load and process all pdf files in chosen directory\n",
    "loader = DirectoryLoader('./data', glob=\"./*.pdf\", loader_cls=PyPDFLoader)\n",
    "original_documents = loader.load()\n",
    "\n",
    "# Function to adjust page numbers in the original documents\n",
    "def adjust_page_numbers(documents):\n",
    "    for doc in documents:\n",
    "        # Convert from 0-based to 1-based\n",
    "        doc.metadata['page'] += 1  # Directly modify the original document\n",
    "    return documents  # Return the modified documents (optional)\n",
    "\n",
    "# Adjust page numbers\n",
    "documents = adjust_page_numbers(original_documents)\n",
    "\n",
    "# Split the text into smaller chunks\n",
    "text_splitter = RecursiveCharacterTextSplitter(\n",
    "    chunk_size=1000,\n",
    "    chunk_overlap=200,\n",
    "    separators=[\".\", \":\", \"&\", \"\\n\\n\", \"\\n\", \" \", \"\"]\n",
    "    )\n",
    "texts = text_splitter.split_documents(documents)\n",
    "\n",
    "# Import the Azure OpenAI Embeddings model\n",
    "embeddings = AzureOpenAIEmbeddings(\n",
    "    model=OPENAI_EMBEDDING_MODEL_NAME,\n",
    "    azure_endpoint=OPENAI_DEPLOYMENT_ENDPOINT,\n",
    "    chunk_size=1,\n",
    "    api_key=OPENAI_API_KEY,\n",
    "    api_version=OPENAI_DEPLOYMENT_VERSION,\n",
    ")\n",
    "\n",
    "# Supplying a persist_directory will store the embeddings on disk\n",
    "persist_directory = 'anhtuan_vectorstore_db'\n",
    "vectordb = Chroma.from_documents(documents=texts, \n",
    "                                 embedding=embeddings,\n",
    "                                 persist_directory=persist_directory)\n",
    "\n",
    "# Now we can load the persisted database from disk, and use it as normal. \n",
    "vectordb = None\n",
    "vectordb = Chroma(persist_directory=persist_directory, \n",
    "                  embedding_function=embeddings)\n",
    "\n",
    "# For search testing\n",
    "retriever = vectordb.as_retriever(search_kwargs={\"k\": 2})\n",
    "answers = retriever.invoke(\"How can i reset my password?\")\n",
    "print(answers)\n"
   ]
  },
  {
   "cell_type": "markdown",
   "metadata": {},
   "source": [
    "## Assignment 2: Building Chatbot (mandatory)\n",
    "- You are requested to build a chatbot solution for customer support scenario using Conversational ReAct agent supported in LangChain\n",
    "- The chatbot is able to support user to answer FAQs in the sample BonBon FAQ.pdf file.\n",
    "- The chatbot should use Azure Open AI GPT-3.5 LLM as the reasoning engine.\n",
    "- The chatbot should be context aware, meaning that it should be able to chat with users in the conversation manner.\n",
    "- The agent is equipped the following tools:\n",
    "  - Internet Search: Help the chatbot automatically find out more about something using Duck Duck Go internet search\n",
    "  - Knowledge Base Search: Help the chatbot to lookup information in the private knowledge base\n",
    "- In case user asks for information related to topics in the BonBon FAQ.pdf file such as internet connection, printer, malware issues the chatbot must use the private knowledge base, otherwise it should search on the internet to answer the question.\n",
    "- In the answer of chatbot, it should mention the source file and the page that the answer belongs to, for example the answer should mention \"BonBon FQA.pdf (page 2)\""
   ]
  },
  {
   "cell_type": "code",
   "execution_count": 43,
   "metadata": {},
   "outputs": [
    {
     "name": "stderr",
     "output_type": "stream",
     "text": [
      "/home/tuan/miniconda3/envs/langchain/lib/python3.11/site-packages/langsmith/client.py:351: LangSmithMissingAPIKeyWarning: API key must be provided when using hosted LangSmith API\n",
      "  warnings.warn(\n"
     ]
    },
    {
     "name": "stdout",
     "output_type": "stream",
     "text": [
      "\n",
      "\n",
      "\u001b[1m> Entering new AgentExecutor chain...\u001b[0m\n",
      "\u001b[32;1m\u001b[1;3mHello! How can I assist you today?\u001b[0mInvalid Format: Missing 'Action:' after 'Thought:\u001b[32;1m\u001b[1;3mHello! How can I assist you today?\u001b[0mInvalid Format: Missing 'Action:' after 'Thought:\u001b[32;1m\u001b[1;3mHello! How can I assist you today?\u001b[0mInvalid Format: Missing 'Action:' after 'Thought:\u001b[32;1m\u001b[1;3m\u001b[0m\n",
      "\n",
      "\u001b[1m> Finished chain.\u001b[0m\n",
      "Agent stopped due to iteration limit or time limit.\n",
      "\n",
      "\n",
      "\u001b[1m> Entering new AgentExecutor chain...\u001b[0m\n",
      "\u001b[32;1m\u001b[1;3mQuestion: why is sunlight at 12pm dangerous\n",
      "Thought: I should search the BonBon FAQ to see if there is any information related to the dangers of sunlight at 12pm.\n",
      "\n",
      "Action: Knowledge Base Search (BonBon FAQ)\n",
      "Action Input: sunlight at 12pm dangerous\n",
      "\u001b[0m\u001b[33;1m\u001b[1;3m[Document(metadata={'page': 6, 'source': 'data/BonBon FAQ.pdf'}, page_content='. \\nOpen the Task Manager (Ctrl+Shift+Esc on Windows) and go to the \"Startup\" tab. Disable any \\nunnecessary programs from starting up.  \\n5. Disable visual effects:')]\u001b[0m\u001b[32;1m\u001b[1;3mThought: The BonBon FAQ does not contain information about the dangers of sunlight at 12pm. I should perform an internet search to find the answer.\n",
      "\n",
      "Action: Internet Search\n",
      "Action Input: why is sunlight at 12pm dangerous\n",
      "\u001b[0m\u001b[36;1m\u001b[1;3mSunlight at 12pm can be dangerous for a few reasons:\n",
      "\n",
      "1. UV Radiation: At midday, the sun is directly overhead, which means the UV radiation from the sun is most intense. Prolonged exposure to this strong UV radiation can damage the skin and eyes, leading to sunburns, premature aging of the skin, and an increased risk of skin cancer.\n",
      "\n",
      "2. Heat Exposure: The sun's rays are also the strongest around noon, which can lead to excessive heat exposure. This can cause heat-related illnesses such as heat exhaustion or heat stroke, especially in hot and humid environments.\n",
      "\n",
      "3. Dehydration: The combination of intense sunlight and heat can lead to rapid fluid loss through sweating, which can result in dehydration if proper hydration is not maintained.\n",
      "\n",
      "4. Photosensitivity: Some medications and skin conditions can make people more sensitive to sunlight, increasing the risk of sunburn and other skin damage during midday sun exposure.\n",
      "\n",
      "It's important to take precautions when spending time outdoors during the midday hours, such as seeking shade, wearing protective clothing, using sunscreen, and staying hydrated. Limiting exposure during the peak UV hours, typically between 10 am and 4 pm, can help reduce the risks associated with midday sunlight.\u001b[0m\u001b[32;1m\u001b[1;3mFinal Answer: Sunlight at 12pm can be dangerous due to the intense UV radiation, which is at its peak when the sun is directly overhead. This can lead to skin and eye damage, sunburns, premature aging, and an increased risk of skin cancer. Additionally, the strong rays can cause excessive heat exposure, leading to heat-related illnesses like heat exhaustion or heat stroke, and rapid fluid loss resulting in dehydration. People with photosensitivity due to medications or skin conditions are at higher risk of sunburn and skin damage during this time. It is advisable to take precautions such as seeking shade, wearing protective clothing, using sunscreen, and staying hydrated to mitigate these risks.\u001b[0m\n",
      "\n",
      "\u001b[1m> Finished chain.\u001b[0m\n",
      "Sunlight at 12pm can be dangerous due to the intense UV radiation, which is at its peak when the sun is directly overhead. This can lead to skin and eye damage, sunburns, premature aging, and an increased risk of skin cancer. Additionally, the strong rays can cause excessive heat exposure, leading to heat-related illnesses like heat exhaustion or heat stroke, and rapid fluid loss resulting in dehydration. People with photosensitivity due to medications or skin conditions are at higher risk of sunburn and skin damage during this time. It is advisable to take precautions such as seeking shade, wearing protective clothing, using sunscreen, and staying hydrated to mitigate these risks.\n",
      "\n",
      "\n",
      "\u001b[1m> Entering new AgentExecutor chain...\u001b[0m\n",
      "\u001b[32;1m\u001b[1;3mQuestion: why is sunlight at 12pm dangerous\n",
      "Thought: The question has already been answered in the previous conversation. The answer provided was comprehensive and covered the main reasons why sunlight at 12pm can be dangerous.\n",
      "\n",
      "Final Answer: Sunlight at 12pm can be dangerous due to the intense UV radiation, which is at its peak when the sun is directly overhead. This can lead to skin and eye damage, sunburns, premature aging, and an increased risk of skin cancer. Additionally, the strong rays can cause excessive heat exposure, leading to heat-related illnesses like heat exhaustion or heat stroke, and rapid fluid loss resulting in dehydration. People with photosensitivity due to medications or skin conditions are at higher risk of sunburn and skin damage during this time. It is advisable to take precautions such as seeking shade, wearing protective clothing, using sunscreen, and staying hydrated to mitigate these risks.\u001b[0m\n",
      "\n",
      "\u001b[1m> Finished chain.\u001b[0m\n",
      "Sunlight at 12pm can be dangerous due to the intense UV radiation, which is at its peak when the sun is directly overhead. This can lead to skin and eye damage, sunburns, premature aging, and an increased risk of skin cancer. Additionally, the strong rays can cause excessive heat exposure, leading to heat-related illnesses like heat exhaustion or heat stroke, and rapid fluid loss resulting in dehydration. People with photosensitivity due to medications or skin conditions are at higher risk of sunburn and skin damage during this time. It is advisable to take precautions such as seeking shade, wearing protective clothing, using sunscreen, and staying hydrated to mitigate these risks.\n",
      "\n",
      "\n",
      "\u001b[1m> Entering new AgentExecutor chain...\u001b[0m\n",
      "\u001b[32;1m\u001b[1;3mQuestion: hello\n",
      "Thought: I should respond to the greeting.\n",
      "Final Answer: Hello! How can I assist you today?\u001b[0m\n",
      "\n",
      "\u001b[1m> Finished chain.\u001b[0m\n",
      "Hello! How can I assist you today?\n",
      "Chatbot: Goodbye!\n"
     ]
    }
   ],
   "source": [
    "from langchain_openai import AzureChatOpenAI\n",
    "from langchain.agents import Tool\n",
    "from duckduckgo_search import DDGS\n",
    "from langchain import hub\n",
    "from langchain.memory import ConversationBufferMemory\n",
    "from langchain.agents import AgentExecutor\n",
    "from langchain.agents import create_react_agent\n",
    "\n",
    "OPENAI_MODEL_NAME = \"gpt-4o\"\n",
    "\n",
    "# Import the Azure OpenAI Chat model\n",
    "llm = AzureChatOpenAI(\n",
    "    deployment_name=OPENAI_MODEL_NAME,\n",
    "    azure_endpoint=OPENAI_DEPLOYMENT_ENDPOINT,\n",
    "    api_version=OPENAI_DEPLOYMENT_VERSION,\n",
    "    api_key=OPENAI_API_KEY,\n",
    "    temperature=0,\n",
    "    max_tokens=None,\n",
    "    timeout=None,\n",
    "    max_retries=3\n",
    ")\n",
    "\n",
    "# Custom DuckDuckGo Chat Function (to prevent rate limiting)\n",
    "def duckduckgo_chat_function(query: str) -> str:\n",
    "    \"\"\"Function to use DuckDuckGo's chat capabilities.\"\"\"\n",
    "    # Call DDGS().chat with the specified model\n",
    "    return DDGS().chat(query, model='claude-3-haiku')\n",
    "\n",
    "# DuckDuckGo Internet Search Tool\n",
    "duckduckgo_tool = Tool(\n",
    "    name=\"Internet Search\",\n",
    "    description=\"Search the internet for answers using DuckDuckGo, only search one time\",\n",
    "    func=duckduckgo_chat_function\n",
    ")\n",
    "\n",
    "# Knowledge Base Search Tool (retriever from Chroma vector store)\n",
    "knowledge_base_tool = Tool(\n",
    "    name=\"Knowledge Base Search (BonBon FAQ)\",\n",
    "    description=\"Search the BonBon FAQ.pdf\",\n",
    "    func=vectordb.as_retriever(search_kwargs={\"k\": 1}).get_relevant_documents\n",
    ")\n",
    "\n",
    "# Create a list of tools\n",
    "tools = [duckduckgo_tool, knowledge_base_tool]\n",
    "\n",
    "# Define the template for the React prompt\n",
    "template = \"\"\"\n",
    "Answer the following questions as best you can. You can use history {chat_history} to fill in unknown context. You have access to the following tools:\n",
    "\n",
    "{tools}\n",
    "\n",
    "Do not repeat thoughts or actions, if repetitive occurs, return the final answer immediately.\n",
    "Return the answer immediately if you encounter any error or reach the max iteration.\n",
    "\n",
    "Use the following format:\n",
    "Remember: if any invalid format occurs, terminate and return answer\n",
    "Question: the input question you must answer\n",
    "Thought: you should always think about what to do\n",
    "Only show 'Action' if it existed > Action: the action to take, find in Search BonBon tool first, then should be one of [{tool_names}] (one of [Internet Search, Knowledge Base Search (BonBon FAQ)]). If not, terminate answer\n",
    "Only show 'Action Input' if it existed > Action Input: the input to the action\n",
    "Observation: the result of the action\n",
    "... (this Thought/Action/Action Input/Observation can repeat at most 5 times.)\n",
    "Thought: i now know the final answer.\n",
    "Only show 'Action' if it existed > Action: return the final answer\n",
    "Final Answer: the final answer to the original input question. If use Search BonBon then include the page of the PDF file that has the question\n",
    "\n",
    "Remember: Do not show 'Action', 'Action Input' or 'Thought' if the lines is in invalid format or non-existed.\n",
    "\n",
    "Remember: Remember to return the page number of the PDF file that has the question if you use the BonBon FAQ. (e.g. Page ? of BonBon FAQ)\n",
    "\n",
    "Remember: Add newline before print out the 'Final Answer' and the 'Thought', and after the action input has been provided.\n",
    "\n",
    "Begin!\n",
    "\n",
    "Current conversation:\n",
    "Chat History:\n",
    "{chat_history}\n",
    "Last line:\n",
    "Human: {input}\n",
    "Thought: {agent_scratchpad}\n",
    "\"\"\"\n",
    "prompt_react = hub.pull(\"hwchase17/react\")\n",
    "prompt_react.template = template\n",
    "\n",
    "# Initialize the ReAct agent\n",
    "react_agent = create_react_agent(llm=llm, tools=tools, prompt=prompt_react)\n",
    "\n",
    "# Define the Conversational ReAct agent with tools\n",
    "conversational_agent = AgentExecutor(\n",
    "    agent=react_agent,\n",
    "    tools=tools,\n",
    "    verbose=True,\n",
    "    handle_parsing_errors=True,\n",
    "    memory = ConversationBufferMemory(memory_key=\"chat_history\", return_messages=True),\n",
    "    max_iterations=3,\n",
    ")\n",
    "\n",
    "# Chatbot interaction loop\n",
    "while True:\n",
    "    user_input = input(\"input: \")\n",
    "    \n",
    "    # Exit condition\n",
    "    if user_input.lower() in ['exit', 'quit']:\n",
    "        print(\"Chatbot: Goodbye!\")\n",
    "        break\n",
    "    \n",
    "    # Process user input through the agent\n",
    "    response = conversational_agent.invoke({\"input\": user_input})\n",
    "    print(response.get(\"output\"))"
   ]
  },
  {
   "cell_type": "markdown",
   "metadata": {},
   "source": [
    "## Assignment 3: Build a new assistant based on BonBon source code (optional)\n",
    "The objective\n",
    "- Run the code and index the sample BonBon FAQ.pdf file to Azure Cognitive Search\n",
    "- Explore the code and implement a new assistant that has the same behavior as above\n",
    "- Explore other features such as RBACs, features on admin portal\n",
    "\n",
    "Please contact the training team in case you need to get the source code of BonBon."
   ]
  }
 ],
 "metadata": {
  "kernelspec": {
   "display_name": "langchain",
   "language": "python",
   "name": "python3"
  },
  "language_info": {
   "codemirror_mode": {
    "name": "ipython",
    "version": 3
   },
   "file_extension": ".py",
   "mimetype": "text/x-python",
   "name": "python",
   "nbconvert_exporter": "python",
   "pygments_lexer": "ipython3",
   "version": "3.11.9"
  }
 },
 "nbformat": 4,
 "nbformat_minor": 2
}
