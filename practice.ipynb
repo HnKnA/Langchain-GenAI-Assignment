{
 "cells": [
  {
   "cell_type": "markdown",
   "metadata": {},
   "source": [
    "## Load .env file"
   ]
  },
  {
   "cell_type": "code",
   "execution_count": 93,
   "metadata": {},
   "outputs": [],
   "source": [
    "import openai, os\n",
    "from dotenv import load_dotenv\n",
    "\n",
    "load_dotenv()\n",
    "openai.api_type = \"azure\"\n",
    "openai.api_version = \"2023-07-01-preview\"\n"
   ]
  },
  {
   "cell_type": "markdown",
   "metadata": {},
   "source": [
    "## Load pdf file"
   ]
  },
  {
   "cell_type": "code",
   "execution_count": 94,
   "metadata": {},
   "outputs": [],
   "source": [
    "from langchain.document_loaders import PyPDFLoader\n",
    "from langchain.document_loaders import DirectoryLoader\n",
    "\n",
    "# Load and process all pdf files in chosen directory\n",
    "loader = DirectoryLoader('./data', glob=\"./*.pdf\", loader_cls=PyPDFLoader)\n",
    "\n",
    "original_documents = loader.load()\n"
   ]
  },
  {
   "cell_type": "code",
   "execution_count": 95,
   "metadata": {},
   "outputs": [],
   "source": [
    "# Function to adjust page numbers in the original documents\n",
    "def adjust_page_numbers(documents):\n",
    "    for doc in documents:\n",
    "        # Convert from 0-based to 1-based\n",
    "        doc.metadata['page'] += 1  # Directly modify the original document\n",
    "    return documents  # Return the modified documents (optional)\n",
    "\n",
    "# Adjust page numbers\n",
    "documents = adjust_page_numbers(original_documents)"
   ]
  },
  {
   "cell_type": "markdown",
   "metadata": {},
   "source": [
    "## Text splitting"
   ]
  },
  {
   "cell_type": "code",
   "execution_count": 96,
   "metadata": {},
   "outputs": [
    {
     "data": {
      "text/plain": [
       "Document(metadata={'source': 'data/BonBon FAQ.pdf', 'page': 3}, page_content='. These incidents might involve \\nissues that impact individual productivity or specific tasks, but there are workarounds \\navailable.  \\n• Example: Inability to access a shared network folder required for a project, a software \\napplication crashing intermittently, or a printer not functioning for a team that relies on \\nhard copies for meetings.  \\n \\n3. Priority Level: High  \\n• Description: Incidents categorized as \"High\" priority are critical and have a severe impact on \\nthe user\\'s ability to perform essential tasks. These incidents usually result in a significant \\ndisruption of work for the affected individual or team and require  immediate attention.  \\n• Example: Complete network outage preventing all users from accessing critical systems, a \\nserver malfunction affecting multiple users\\' access to essential data, or an email service \\noutage preventing communication for the entire organization')"
      ]
     },
     "execution_count": 96,
     "metadata": {},
     "output_type": "execute_result"
    }
   ],
   "source": [
    "from langchain.text_splitter import RecursiveCharacterTextSplitter\n",
    "\n",
    "# Split the text into smaller chunks\n",
    "text_splitter = RecursiveCharacterTextSplitter(\n",
    "    chunk_size=1000,\n",
    "    chunk_overlap=200,\n",
    "    separators=[\".\", \":\", \"&\", \"\\n\\n\", \"\\n\", \" \", \"\"]\n",
    "    )\n",
    "texts = text_splitter.split_documents(documents)\n",
    "\n",
    "texts[5]\n"
   ]
  },
  {
   "cell_type": "markdown",
   "metadata": {},
   "source": [
    "## Import embedding"
   ]
  },
  {
   "cell_type": "code",
   "execution_count": 97,
   "metadata": {},
   "outputs": [],
   "source": [
    "from langchain_openai import AzureOpenAIEmbeddings\n",
    "\n",
    "OPENAI_API_KEY = os.getenv(\"OPENAI_API_KEY\")\n",
    "OPENAI_DEPLOYMENT_ENDPOINT = os.getenv(\"AZURE_OPENAI_ENDPOINT\")\n",
    "OPENAI_DEPLOYMENT_VERSION = \"2024-06-01\"\n",
    "OPENAI_EMBEDDING_MODEL_NAME = \"text-embedding-ada-002\"\n",
    "\n",
    "embeddings = AzureOpenAIEmbeddings(\n",
    "    model=OPENAI_EMBEDDING_MODEL_NAME,\n",
    "    azure_endpoint=OPENAI_DEPLOYMENT_ENDPOINT,\n",
    "    chunk_size=1,\n",
    "    api_key=OPENAI_API_KEY,\n",
    "    api_version=OPENAI_DEPLOYMENT_VERSION,\n",
    ")"
   ]
  },
  {
   "cell_type": "markdown",
   "metadata": {},
   "source": [
    "## Create DB"
   ]
  },
  {
   "cell_type": "code",
   "execution_count": 98,
   "metadata": {},
   "outputs": [],
   "source": [
    "from langchain.vectorstores import Chroma\n",
    "\n",
    "# Supplying a persist_directory will store the embeddings on disk\n",
    "persist_directory = 'vectorstore_db'\n",
    "\n",
    "vectordb = Chroma.from_documents(documents=texts, \n",
    "                                 embedding=embeddings,\n",
    "                                 persist_directory=persist_directory)"
   ]
  },
  {
   "cell_type": "code",
   "execution_count": 99,
   "metadata": {},
   "outputs": [],
   "source": [
    "# Persist the db to disk, you can run this code only once\n",
    "vectordb.persist()\n",
    "vectordb = None"
   ]
  },
  {
   "cell_type": "code",
   "execution_count": 100,
   "metadata": {},
   "outputs": [],
   "source": [
    "# Now we can load the persisted database from disk, and use it as normal. \n",
    "vectordb = Chroma(persist_directory=persist_directory, \n",
    "                  embedding_function=embeddings)"
   ]
  },
  {
   "cell_type": "markdown",
   "metadata": {},
   "source": [
    "## Create retriever (for testing purpose)"
   ]
  },
  {
   "cell_type": "code",
   "execution_count": 101,
   "metadata": {},
   "outputs": [],
   "source": [
    "retriever = vectordb.as_retriever(search_kwargs={\"k\": 2})\n",
    "answers = retriever.get_relevant_documents(\"How can i reset my password?\")"
   ]
  },
  {
   "cell_type": "markdown",
   "metadata": {},
   "source": [
    "## Import the model"
   ]
  },
  {
   "cell_type": "code",
   "execution_count": 102,
   "metadata": {},
   "outputs": [],
   "source": [
    "from langchain_openai import AzureChatOpenAI\n",
    "\n",
    "OPENAI_MODEL_NAME = \"gpt-4o\"\n",
    "\n",
    "llm = AzureChatOpenAI(\n",
    "    deployment_name=OPENAI_MODEL_NAME,\n",
    "    azure_endpoint=OPENAI_DEPLOYMENT_ENDPOINT,\n",
    "    api_version=OPENAI_DEPLOYMENT_VERSION,\n",
    "    api_key=OPENAI_API_KEY,\n",
    "    temperature=0,\n",
    "    max_tokens=None,\n",
    "    timeout=None,\n",
    "    max_retries=3\n",
    ")"
   ]
  },
  {
   "cell_type": "markdown",
   "metadata": {},
   "source": [
    "## Use chaining to test the current llm and retriever"
   ]
  },
  {
   "cell_type": "code",
   "execution_count": 103,
   "metadata": {},
   "outputs": [
    {
     "name": "stdout",
     "output_type": "stream",
     "text": [
      "\n",
      "Document 1:\n",
      "Source: data/BonBon FAQ.pdf (Page 4)\n",
      "Content Snippet: .  \n",
      "• Remember, the priority levels may vary based on the organization's policies and the nature \n",
      "of the incident. It's important to have well -defined criteria for determining the priority of \n",
      "incidents so that the Service Desk team can effectively allocate resour ces and provide timely \n",
      "support.  \n",
      " \n",
      "Frequently Asked Questions:  \n",
      " \n",
      "1) Q: How do I reset my password?  \n",
      "A: Go to “Where to Reset my Password for which application” web page @ the following link – \n",
      "www.anycorp.intranet.passwordreset/com . There you will be able to select application for which you \n",
      "need to reset your password and will receive further instructions....\n",
      "\n",
      "Document 2:\n",
      "Source: data/BonBon FAQ.pdf (Page 4)\n",
      "Content Snippet: .  \n",
      "• Remember, the priority levels may vary based on the organization's policies and the nature \n",
      "of the incident. It's important to have well -defined criteria for determining the priority of \n",
      "incidents so that the Service Desk team can effectively allocate resour ces and provide timely \n",
      "support.  \n",
      " \n",
      "Frequently Asked Questions:  \n",
      " \n",
      "1) Q: How do I reset my password?  \n",
      "A: Go to “Where to Reset my Password for which application” web page @ the following link – \n",
      "www.anycorp.intranet.passwordreset/com . There you will be able to select application for which you \n",
      "need to reset your password and will receive further instructions....\n"
     ]
    }
   ],
   "source": [
    "from langchain.chains import RetrievalQA\n",
    "\n",
    "# Combine the retriever and LLM into a chain for question answering\n",
    "qa_chain = RetrievalQA.from_chain_type(\n",
    "    llm=llm, \n",
    "    retriever=retriever,\n",
    "    chain_type=\"stuff\",\n",
    "    return_source_documents=True\n",
    ")\n",
    "\n",
    "# Ask a question\n",
    "question = \"How can I reset my password?\"\n",
    "result = qa_chain({\"query\": question}) \n",
    "\n",
    "# Extract the answer and source documents\n",
    "answer = result[\"result\"]\n",
    "source_documents = result[\"source_documents\"]\n",
    "\n",
    "# Print the top 2 source documents with page number and content snippet\n",
    "for idx, doc in enumerate(source_documents, 1):\n",
    "    # Adjust the page number from 0-indexed to 1-indexed\n",
    "    page_num = doc.metadata.get(\"page\", \"Unknown Page\")\n",
    "    if isinstance(page_num, int):\n",
    "        page_num += 1\n",
    "    \n",
    "    print(f\"\\nDocument {idx}:\")\n",
    "    print(f\"Source: {doc.metadata.get('source', 'Unknown Source')} (Page {page_num})\")\n",
    "    print(f\"Content Snippet: {doc.page_content[:1000]}...\")\n",
    "\n"
   ]
  },
  {
   "cell_type": "markdown",
   "metadata": {},
   "source": [
    "## Define tools"
   ]
  },
  {
   "cell_type": "code",
   "execution_count": 104,
   "metadata": {},
   "outputs": [],
   "source": [
    "from langchain.agents import Tool\n",
    "from duckduckgo_search import DDGS\n",
    "\n",
    "# Custom DuckDuckGo Chat Function\n",
    "def duckduckgo_chat_function(query: str) -> str:\n",
    "    \"\"\"Function to use DuckDuckGo's chat capabilities.\"\"\"\n",
    "    # Call DDGS().chat with the specified model\n",
    "    return DDGS().chat(query, model='claude-3-haiku')\n",
    "\n",
    "# DuckDuckGo Internet Search Tool\n",
    "duckduckgo_tool = Tool(\n",
    "    name=\"Internet Search\",\n",
    "    description=\"Search the internet for answers using DuckDuckGo\",\n",
    "    func=duckduckgo_chat_function\n",
    ")\n",
    "\n",
    "# Knowledge Base Search Tool (retriever from Chroma vector store)\n",
    "knowledge_base_tool = Tool(\n",
    "    name=\"Knowledge Base Search (BonBon FAQ)\",\n",
    "    description=\"Search the BonBon FAQ.pdf\",\n",
    "    func=vectordb.as_retriever(search_kwargs={\"k\": 2}).get_relevant_documents\n",
    ")\n",
    "\n",
    "tools = [duckduckgo_tool, knowledge_base_tool]\n"
   ]
  },
  {
   "cell_type": "markdown",
   "metadata": {},
   "source": [
    "## Define prompt template"
   ]
  },
  {
   "cell_type": "code",
   "execution_count": 105,
   "metadata": {},
   "outputs": [
    {
     "name": "stderr",
     "output_type": "stream",
     "text": [
      "/home/tuan/miniconda3/envs/langchain/lib/python3.11/site-packages/langsmith/client.py:354: LangSmithMissingAPIKeyWarning: API key must be provided when using hosted LangSmith API\n",
      "  warnings.warn(\n"
     ]
    },
    {
     "name": "stdout",
     "output_type": "stream",
     "text": [
      "\n",
      "Answer the following questions as best you can. You can use history {chat_history} to fill in unknown context. You have access to the following tools:\n",
      "\n",
      "{tools}\n",
      "\n",
      "Use the following format:\n",
      "Remember: If any invalid format occurs, terminate and return answer\n",
      "Question: the input question you must answer\n",
      "Thought: you should always think about what to do\n",
      "Action (if existed): you MUST find in Knowledge Base Search (BonBon FAQ) tool first, the use other tools, then should be one of [{tool_names}] (one of [Internet Search, Knowledge Base Search (BonBon FAQ)]). If not, terminate answer\n",
      "Action Input (if presented): the input to the action\n",
      "Observation: the result of the action\n",
      "... (this Thought/Action/Action Input/Observation can repeat at most 5 times.)\n",
      "Thought: I now know the final answer. Let's return the answer\n",
      "Final Answer: the final answer to the original input question, if Knowledge Base Search (BonBon FAQ) is used then include the page of the PDF file that has the question (e.g. BonBon FAQ page ?)\n",
      "\n",
      "Important: These keywords must never be translated and transformed. If one or some of them are not found, \n",
      "do not show that line and continue to the next line. If the final answer is not found, return \"Answer not found\". Do \n",
      "not concatenate these lines with the previous or next lines. Do not show repetitive answers or questions.\n",
      "- Question:\n",
      "- Action:\n",
      "- Thought:\n",
      "- Action Input:\n",
      "- Observation:\n",
      "- Final Answer:\n",
      "\n",
      "Remember to return the page number of the PDF file that has the question if you use the BonBon FAQ (e.g. BonBon FAQ page ?)\n",
      "\n",
      "Remember: Add newline before print out the 'Final Answer' and the 'Thought', and after the action input has been provided\n",
      "\n",
      "Begin!\n",
      "\n",
      "Current conversation:\n",
      "Chat History:\n",
      "{chat_history}\n",
      "Last line:\n",
      "Human: {input}\n",
      "Thought: {agent_scratchpad}\n",
      "\n"
     ]
    }
   ],
   "source": [
    "from langchain import hub\n",
    "\n",
    "template = \"\"\"\n",
    "Answer the following questions as best you can. You can use history {chat_history} to fill in unknown context. You have access to the following tools:\n",
    "\n",
    "{tools}\n",
    "\n",
    "Use the following format:\n",
    "Remember: If any invalid format occurs, terminate and return answer\n",
    "Question: the input question you must answer\n",
    "Thought: you should always think about what to do\n",
    "Action (if existed): you MUST find in Knowledge Base Search (BonBon FAQ) tool first, the use other tools, then should be one of [{tool_names}] (one of [Internet Search, Knowledge Base Search (BonBon FAQ)]). If not, terminate answer\n",
    "Action Input (if presented): the input to the action\n",
    "Observation: the result of the action\n",
    "... (this Thought/Action/Action Input/Observation can repeat at most 5 times.)\n",
    "Thought: I now know the final answer. Let's return the answer\n",
    "Final Answer: the final answer to the original input question, if Knowledge Base Search (BonBon FAQ) is used then include the page of the PDF file that has the question (e.g. BonBon FAQ page ?)\n",
    "\n",
    "Important: These keywords must never be translated and transformed. If one or some of them are not found, \n",
    "do not show that line and continue to the next line. If the final answer is not found, return \"Answer not found\". Do \n",
    "not concatenate these lines with the previous or next lines. Do not show repetitive answers or questions.\n",
    "- Question:\n",
    "- Action:\n",
    "- Thought:\n",
    "- Action Input:\n",
    "- Observation:\n",
    "- Final Answer:\n",
    "\n",
    "Remember to return the page number of the PDF file that has the question if you use the BonBon FAQ (e.g. BonBon FAQ page ?)\n",
    "\n",
    "Remember: Add newline before print out the 'Final Answer' and the 'Thought', and after the action input has been provided\n",
    "\n",
    "Begin!\n",
    "\n",
    "Current conversation:\n",
    "Chat History:\n",
    "{chat_history}\n",
    "Last line:\n",
    "Human: {input}\n",
    "Thought: {agent_scratchpad}\n",
    "\"\"\"\n",
    "prompt_react = hub.pull(\"hwchase17/react\")\n",
    "prompt_react.template = template\n",
    "\n",
    "print(prompt_react.template)"
   ]
  },
  {
   "cell_type": "markdown",
   "metadata": {},
   "source": [
    "## Define the Agent with Conversational Memory"
   ]
  },
  {
   "cell_type": "code",
   "execution_count": 106,
   "metadata": {},
   "outputs": [],
   "source": [
    "from langchain.memory import ConversationBufferMemory\n",
    "from langchain.agents import AgentExecutor\n",
    "from langchain.agents import create_react_agent\n",
    "\n",
    "react_agent = create_react_agent(llm=llm, tools=tools, prompt=prompt_react)\n",
    "\n",
    "# Define the Conversational ReAct agent with tools\n",
    "conversational_agent = AgentExecutor(\n",
    "    agent=react_agent,\n",
    "    tools=tools,\n",
    "    verbose=True,\n",
    "    handle_parsing_errors=True,\n",
    "    memory = ConversationBufferMemory(memory_key=\"chat_history\", return_messages=True),\n",
    "    max_iterations=3,\n",
    ")\n",
    "\n"
   ]
  },
  {
   "cell_type": "markdown",
   "metadata": {},
   "source": [
    "## Chatbot interaction"
   ]
  },
  {
   "cell_type": "code",
   "execution_count": 107,
   "metadata": {},
   "outputs": [
    {
     "name": "stdout",
     "output_type": "stream",
     "text": [
      "\n",
      "\n",
      "\u001b[1m> Entering new AgentExecutor chain...\u001b[0m\n",
      "\u001b[32;1m\u001b[1;3mThought: I should first check the BonBon FAQ to see if there is any information on how to check for malware.\n",
      "\n",
      "Action: Knowledge Base Search (BonBon FAQ)\n",
      "\n",
      "Action Input: how to check for malware\n",
      "\u001b[0m\u001b[33;1m\u001b[1;3m[Document(metadata={'page': 10, 'source': 'data/BonBon FAQ.pdf'}, page_content=\". If you don't have one installed, consider downloading and installing a trusted \\nantivirus program.  \\n3)  Remove the malware:  \\n• Follow the instructions provided by your antivirus software to remove the detected \\nmalware. This often involves quarantining or deleting infected files and cleaning your \\nsystem.  \\n4)  Update your operating system and software:  \\n• Make sure your operating system and all installed software are up to date. Malware often \\ntakes advantage of vulnerabilities in outdated software.  \\n 5)  Change passwords:  \\n• If you suspect that the malware has access to your sensitive information, change your \\npasswords for important accounts, such as email, online banking, and social media.  \\n6) Restore or reinstall the operating system (if necessary):  \\n• In severe cases, you may need to reinstall your operating system to ensure complete \\nremoval of the malware. Make sure to back up your important data before doing this\"), Document(metadata={'page': 10, 'source': 'data/BonBon FAQ.pdf'}, page_content=\". If you don't have one installed, consider downloading and installing a trusted \\nantivirus program.  \\n3)  Remove the malware:  \\n• Follow the instructions provided by your antivirus software to remove the detected \\nmalware. This often involves quarantining or deleting infected files and cleaning your \\nsystem.  \\n4)  Update your operating system and software:  \\n• Make sure your operating system and all installed software are up to date. Malware often \\ntakes advantage of vulnerabilities in outdated software.  \\n 5)  Change passwords:  \\n• If you suspect that the malware has access to your sensitive information, change your \\npasswords for important accounts, such as email, online banking, and social media.  \\n6) Restore or reinstall the operating system (if necessary):  \\n• In severe cases, you may need to reinstall your operating system to ensure complete \\nremoval of the malware. Make sure to back up your important data before doing this\")]\u001b[0m\u001b[32;1m\u001b[1;3mThought: The BonBon FAQ provides detailed steps on how to check for and remove malware. I will summarize the steps provided.\n",
      "\n",
      "Final Answer: To check for malware, follow these steps (BonBon FAQ page 10):\n",
      "\n",
      "1. **Install Antivirus Software**: If you don't have one installed, consider downloading and installing a trusted antivirus program.\n",
      "2. **Run a Full System Scan**: Use your antivirus software to perform a full system scan to detect any malware.\n",
      "3. **Remove the Malware**: Follow the instructions provided by your antivirus software to remove the detected malware. This often involves quarantining or deleting infected files and cleaning your system.\n",
      "4. **Update Your Operating System and Software**: Make sure your operating system and all installed software are up to date. Malware often takes advantage of vulnerabilities in outdated software.\n",
      "5. **Change Passwords**: If you suspect that the malware has access to your sensitive information, change your passwords for important accounts, such as email, online banking, and social media.\n",
      "6. **Restore or Reinstall the Operating System (if necessary)**: In severe cases, you may need to reinstall your operating system to ensure complete removal of the malware. Make sure to back up your important data before doing this.\u001b[0m\n",
      "\n",
      "\u001b[1m> Finished chain.\u001b[0m\n",
      "\n",
      "\n",
      "\u001b[1m> Entering new AgentExecutor chain...\u001b[0m\n",
      "\u001b[32;1m\u001b[1;3mThought: I should search the BonBon FAQ to see if there is any information on how to recover deleted files.\n",
      "\n",
      "Action: Knowledge Base Search (BonBon FAQ)\n",
      "Action Input: how to recover deleted files\u001b[0m\u001b[33;1m\u001b[1;3m[Document(metadata={'page': 6, 'source': 'data/BonBon FAQ.pdf'}, page_content=\"2. Use File History or Time Machine (for backups):  \\n• Windows: If you have enabled File History or created a backup using third -party \\nsoftware, you can restore the deleted file from your backup.  \\n• Mac: If you have enabled Time Machine and regularly backed up your files, you can \\nenter Time Machine, locate the file at an earlier point in time, and restore it.  \\n3. Search for temporary or hidden copies:  \\n• Some applications or the operating system itself may create temporary or hidden copies \\nof files. Use the search functionality on your computer to search for the file by its name or \\nextension. Look for any temporary or hidden folders that might contain a copy of the deleted \\nfile. \\n4. Contact IT Helpdesk  \\n• If the above methods don't recover the file and the file is deemed business critical, then \\nplease contact the IT Helpdesk and if a business case can be made for deploying data recovery \\nsoftware to help.  \\n \\n5) Q: My computer is running slow\"), Document(metadata={'page': 6, 'source': 'data/BonBon FAQ.pdf'}, page_content=\"2. Use File History or Time Machine (for backups):  \\n• Windows: If you have enabled File History or created a backup using third -party \\nsoftware, you can restore the deleted file from your backup.  \\n• Mac: If you have enabled Time Machine and regularly backed up your files, you can \\nenter Time Machine, locate the file at an earlier point in time, and restore it.  \\n3. Search for temporary or hidden copies:  \\n• Some applications or the operating system itself may create temporary or hidden copies \\nof files. Use the search functionality on your computer to search for the file by its name or \\nextension. Look for any temporary or hidden folders that might contain a copy of the deleted \\nfile. \\n4. Contact IT Helpdesk  \\n• If the above methods don't recover the file and the file is deemed business critical, then \\nplease contact the IT Helpdesk and if a business case can be made for deploying data recovery \\nsoftware to help.  \\n \\n5) Q: My computer is running slow\")]\u001b[0m\u001b[32;1m\u001b[1;3mThought: I now know the final answer. Let's return the answer\n",
      "\n",
      "Final Answer: To recover deleted files, follow these steps (BonBon FAQ page 6):\n",
      "\n",
      "1. **Check the Recycle Bin or Trash**: Look in the Recycle Bin (Windows) or Trash (Mac) for the deleted file. If found, right-click and restore it.\n",
      "2. **Use File History or Time Machine (for backups)**:\n",
      "   - **Windows**: If you have enabled File History or created a backup using third-party software, you can restore the deleted file from your backup.\n",
      "   - **Mac**: If you have enabled Time Machine and regularly backed up your files, you can enter Time Machine, locate the file at an earlier point in time, and restore it.\n",
      "3. **Search for temporary or hidden copies**: Some applications or the operating system itself may create temporary or hidden copies of files. Use the search functionality on your computer to search for the file by its name or extension. Look for any temporary or hidden folders that might contain a copy of the deleted file.\n",
      "4. **Contact IT Helpdesk**: If the above methods don't recover the file and the file is deemed business critical, then please contact the IT Helpdesk and if a business case can be made for deploying data recovery software to help.\u001b[0m\n",
      "\n",
      "\u001b[1m> Finished chain.\u001b[0m\n",
      "\n",
      "\n",
      "\u001b[1m> Entering new AgentExecutor chain...\u001b[0m\n",
      "\u001b[32;1m\u001b[1;3mQuestion: vitamins in apple\n",
      "Thought: I should search for information on the vitamins present in apples.\n",
      "Action: Internet Search\n",
      "Action Input: vitamins in apple\u001b[0m\u001b[36;1m\u001b[1;3mHere are some of the key vitamins found in apples:\n",
      "\n",
      "- Vitamin C - Apples contain a good amount of vitamin C, with one medium apple providing around 8-10% of the recommended daily intake.\n",
      "\n",
      "- Vitamin K - Apples contain a small amount of vitamin K, providing around 2-3% of the daily recommended intake per medium apple.\n",
      "\n",
      "- Vitamin B6 - Apples contain a small amount of vitamin B6, with one medium apple providing around 3% of the daily recommended intake.\n",
      "\n",
      "- Folate - Apples contain a small amount of folate, providing around 2-3% of the daily recommended intake per medium apple.\n",
      "\n",
      "Apples also contain other beneficial nutrients like:\n",
      "\n",
      "- Fiber - Apples are a good source of dietary fiber, with one medium apple containing around 4-5 grams of fiber.\n",
      "\n",
      "- Antioxidants - Apples are rich in various antioxidant compounds like polyphenols that can provide health benefits.\n",
      "\n",
      "So in summary, while apples are not an exceptionally high source of vitamins, they do contain small to moderate amounts of several important vitamins as part of a healthy, balanced diet. The fiber and antioxidants in apples also make them a nutritious fruit choice.\u001b[0m\u001b[32;1m\u001b[1;3mQuestion: vitamins in apple\n",
      "\n",
      "Final Answer: Here are some of the key vitamins found in apples:\n",
      "\n",
      "- Vitamin C - Apples contain a good amount of vitamin C, with one medium apple providing around 8-10% of the recommended daily intake.\n",
      "- Vitamin K - Apples contain a small amount of vitamin K, providing around 2-3% of the daily recommended intake per medium apple.\n",
      "- Vitamin B6 - Apples contain a small amount of vitamin B6, with one medium apple providing around 3% of the daily recommended intake.\n",
      "- Folate - Apples contain a small amount of folate, providing around 2-3% of the daily recommended intake per medium apple.\n",
      "\n",
      "Apples also contain other beneficial nutrients like:\n",
      "\n",
      "- Fiber - Apples are a good source of dietary fiber, with one medium apple containing around 4-5 grams of fiber.\n",
      "- Antioxidants - Apples are rich in various antioxidant compounds like polyphenols that can provide health benefits.\n",
      "\n",
      "So in summary, while apples are not an exceptionally high source of vitamins, they do contain small to moderate amounts of several important vitamins as part of a healthy, balanced diet. The fiber and antioxidants in apples also make them a nutritious fruit choice.\u001b[0m\n",
      "\n",
      "\u001b[1m> Finished chain.\u001b[0m\n",
      "\n",
      "\n",
      "\u001b[1m> Entering new AgentExecutor chain...\u001b[0m\n",
      "\u001b[32;1m\u001b[1;3mThank you! If you have any more questions or need further assistance, feel free to ask.\u001b[0mInvalid Format: Missing 'Action:' after 'Thought:\u001b[32;1m\u001b[1;3mThank you! If you have any more questions or need further assistance, feel free to ask.\u001b[0mInvalid Format: Missing 'Action:' after 'Thought:\u001b[32;1m\u001b[1;3mThank you! If you have any more questions or need further assistance, feel free to ask.\u001b[0mInvalid Format: Missing 'Action:' after 'Thought:\u001b[32;1m\u001b[1;3m\u001b[0m\n",
      "\n",
      "\u001b[1m> Finished chain.\u001b[0m\n",
      "Chatbot: Goodbye!\n"
     ]
    }
   ],
   "source": [
    "# Chatbot interaction loop\n",
    "while True:\n",
    "    user_input = input(\"input: \")\n",
    "    \n",
    "    # Exit condition\n",
    "    if user_input.lower() in ['exit', 'quit']:\n",
    "        print(\"Chatbot: Goodbye!\")\n",
    "        break\n",
    "    \n",
    "    # Process user input through the agent\n",
    "    response = conversational_agent.invoke({\"input\": user_input})\n",
    "\n",
    "    \n"
   ]
  }
 ],
 "metadata": {
  "kernelspec": {
   "display_name": "langchain",
   "language": "python",
   "name": "python3"
  },
  "language_info": {
   "codemirror_mode": {
    "name": "ipython",
    "version": 3
   },
   "file_extension": ".py",
   "mimetype": "text/x-python",
   "name": "python",
   "nbconvert_exporter": "python",
   "pygments_lexer": "ipython3",
   "version": "3.11.9"
  }
 },
 "nbformat": 4,
 "nbformat_minor": 2
}
