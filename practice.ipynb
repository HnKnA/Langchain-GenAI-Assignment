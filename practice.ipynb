{
 "cells": [
  {
   "cell_type": "markdown",
   "metadata": {},
   "source": [
    "## Load .env file"
   ]
  },
  {
   "cell_type": "code",
   "execution_count": 299,
   "metadata": {},
   "outputs": [],
   "source": [
    "import openai, os\n",
    "from dotenv import load_dotenv\n",
    "\n",
    "load_dotenv()\n",
    "openai.api_type = \"azure\"\n",
    "openai.api_version = \"2023-07-01-preview\"\n"
   ]
  },
  {
   "cell_type": "markdown",
   "metadata": {},
   "source": [
    "## Load pdf file"
   ]
  },
  {
   "cell_type": "code",
   "execution_count": 300,
   "metadata": {},
   "outputs": [],
   "source": [
    "from langchain.document_loaders import PyPDFLoader\n",
    "from langchain.document_loaders import DirectoryLoader\n",
    "\n",
    "# Load and process all pdf files in chosen directory\n",
    "loader = DirectoryLoader('./data', glob=\"./*.pdf\", loader_cls=PyPDFLoader)\n",
    "\n",
    "original_documents = loader.load()\n"
   ]
  },
  {
   "cell_type": "code",
   "execution_count": 301,
   "metadata": {},
   "outputs": [],
   "source": [
    "# Function to adjust page numbers in the original documents\n",
    "def adjust_page_numbers(documents):\n",
    "    for doc in documents:\n",
    "        # Convert from 0-based to 1-based\n",
    "        doc.metadata['page'] += 1  # Directly modify the original document\n",
    "    return documents  # Return the modified documents (optional)\n",
    "\n",
    "# Adjust page numbers\n",
    "documents = adjust_page_numbers(original_documents)"
   ]
  },
  {
   "cell_type": "markdown",
   "metadata": {},
   "source": [
    "## Text splitting"
   ]
  },
  {
   "cell_type": "code",
   "execution_count": 302,
   "metadata": {},
   "outputs": [
    {
     "data": {
      "text/plain": [
       "Document(metadata={'source': 'data/BonBon FAQ.pdf', 'page': 3}, page_content='. These incidents might involve \\nissues that impact individual productivity or specific tasks, but there are workarounds \\navailable.  \\n• Example: Inability to access a shared network folder required for a project, a software \\napplication crashing intermittently, or a printer not functioning for a team that relies on \\nhard copies for meetings.  \\n \\n3. Priority Level: High  \\n• Description: Incidents categorized as \"High\" priority are critical and have a severe impact on \\nthe user\\'s ability to perform essential tasks. These incidents usually result in a significant \\ndisruption of work for the affected individual or team and require  immediate attention.  \\n• Example: Complete network outage preventing all users from accessing critical systems, a \\nserver malfunction affecting multiple users\\' access to essential data, or an email service \\noutage preventing communication for the entire organization')"
      ]
     },
     "execution_count": 302,
     "metadata": {},
     "output_type": "execute_result"
    }
   ],
   "source": [
    "from langchain.text_splitter import RecursiveCharacterTextSplitter\n",
    "\n",
    "# Split the text into smaller chunks\n",
    "text_splitter = RecursiveCharacterTextSplitter(\n",
    "    chunk_size=1000,\n",
    "    chunk_overlap=200,\n",
    "    separators=[\".\", \":\", \"&\", \"\\n\\n\", \"\\n\", \" \", \"\"]\n",
    "    )\n",
    "texts = text_splitter.split_documents(documents)\n",
    "\n",
    "texts[5]\n"
   ]
  },
  {
   "cell_type": "markdown",
   "metadata": {},
   "source": [
    "## Import embedding"
   ]
  },
  {
   "cell_type": "code",
   "execution_count": 303,
   "metadata": {},
   "outputs": [],
   "source": [
    "from langchain_openai import AzureOpenAIEmbeddings\n",
    "\n",
    "OPENAI_API_KEY = os.getenv(\"OPENAI_API_KEY\")\n",
    "OPENAI_DEPLOYMENT_ENDPOINT = os.getenv(\"AZURE_OPENAI_ENDPOINT\")\n",
    "OPENAI_DEPLOYMENT_VERSION = \"2024-06-01\"\n",
    "OPENAI_EMBEDDING_MODEL_NAME = \"text-embedding-ada-002\"\n",
    "\n",
    "embeddings = AzureOpenAIEmbeddings(\n",
    "    model=OPENAI_EMBEDDING_MODEL_NAME,\n",
    "    azure_endpoint=OPENAI_DEPLOYMENT_ENDPOINT,\n",
    "    chunk_size=1,\n",
    "    api_key=OPENAI_API_KEY,\n",
    "    api_version=OPENAI_DEPLOYMENT_VERSION,\n",
    ")"
   ]
  },
  {
   "cell_type": "markdown",
   "metadata": {},
   "source": [
    "## Create DB"
   ]
  },
  {
   "cell_type": "code",
   "execution_count": 304,
   "metadata": {},
   "outputs": [],
   "source": [
    "from langchain.vectorstores import Chroma\n",
    "\n",
    "# Supplying a persist_directory will store the embeddings on disk\n",
    "persist_directory = 'vectorstore_db'\n",
    "\n",
    "vectordb = Chroma.from_documents(documents=texts, \n",
    "                                 embedding=embeddings,\n",
    "                                 persist_directory=persist_directory)"
   ]
  },
  {
   "cell_type": "code",
   "execution_count": 305,
   "metadata": {},
   "outputs": [],
   "source": [
    "# Persist the db to disk, you can run this code only once\n",
    "vectordb.persist()\n",
    "vectordb = None"
   ]
  },
  {
   "cell_type": "code",
   "execution_count": 306,
   "metadata": {},
   "outputs": [],
   "source": [
    "# Now we can load the persisted database from disk, and use it as normal. \n",
    "vectordb = Chroma(persist_directory=persist_directory, \n",
    "                  embedding_function=embeddings)"
   ]
  },
  {
   "cell_type": "markdown",
   "metadata": {},
   "source": [
    "## Create retriever (for testing purpose)"
   ]
  },
  {
   "cell_type": "code",
   "execution_count": 307,
   "metadata": {},
   "outputs": [],
   "source": [
    "retriever = vectordb.as_retriever(search_kwargs={\"k\": 2})\n",
    "answers = retriever.get_relevant_documents(\"How can i reset my password?\")"
   ]
  },
  {
   "cell_type": "markdown",
   "metadata": {},
   "source": [
    "## Import the model"
   ]
  },
  {
   "cell_type": "code",
   "execution_count": 308,
   "metadata": {},
   "outputs": [],
   "source": [
    "from langchain_openai import AzureChatOpenAI\n",
    "\n",
    "OPENAI_MODEL_NAME = \"gpt-4o\"\n",
    "\n",
    "llm = AzureChatOpenAI(\n",
    "    deployment_name=OPENAI_MODEL_NAME,\n",
    "    azure_endpoint=OPENAI_DEPLOYMENT_ENDPOINT,\n",
    "    api_version=OPENAI_DEPLOYMENT_VERSION,\n",
    "    api_key=OPENAI_API_KEY,\n",
    "    temperature=0,\n",
    "    max_tokens=None,\n",
    "    timeout=None,\n",
    "    max_retries=3\n",
    ")"
   ]
  },
  {
   "cell_type": "markdown",
   "metadata": {},
   "source": [
    "## Use chaining to test the current llm and retriever"
   ]
  },
  {
   "cell_type": "code",
   "execution_count": 309,
   "metadata": {},
   "outputs": [
    {
     "name": "stdout",
     "output_type": "stream",
     "text": [
      "\n",
      "Document 1:\n",
      "Source: data/BonBon FAQ.pdf (Page 3)\n",
      "Content Snippet: .  \n",
      "• Remember, the priority levels may vary based on the organization's policies and the nature \n",
      "of the incident. It's important to have well -defined criteria for determining the priority of \n",
      "incidents so that the Service Desk team can effectively allocate resour ces and provide timely \n",
      "support.  \n",
      " \n",
      "Frequently Asked Questions:  \n",
      " \n",
      "1) Q: How do I reset my password?  \n",
      "A: Go to “Where to Reset my Password for which application” web page @ the following link – \n",
      "www.anycorp.intranet.passwordreset/com . There you will be able to select application for which you \n",
      "need to reset your password and will receive further instructions....\n",
      "\n",
      "Document 2:\n",
      "Source: data/BonBon FAQ.pdf (Page 4)\n",
      "Content Snippet: .  \n",
      "• Remember, the priority levels may vary based on the organization's policies and the nature \n",
      "of the incident. It's important to have well -defined criteria for determining the priority of \n",
      "incidents so that the Service Desk team can effectively allocate resour ces and provide timely \n",
      "support.  \n",
      " \n",
      "Frequently Asked Questions:  \n",
      " \n",
      "1) Q: How do I reset my password?  \n",
      "A: Go to “Where to Reset my Password for which application” web page @ the following link – \n",
      "www.anycorp.intranet.passwordreset/com . There you will be able to select application for which you \n",
      "need to reset your password and will receive further instructions....\n"
     ]
    }
   ],
   "source": [
    "from langchain.chains import RetrievalQA\n",
    "\n",
    "# Combine the retriever and LLM into a chain for question answering\n",
    "qa_chain = RetrievalQA.from_chain_type(\n",
    "    llm=llm, \n",
    "    retriever=retriever,\n",
    "    chain_type=\"stuff\",\n",
    "    return_source_documents=True\n",
    ")\n",
    "\n",
    "# Ask a question\n",
    "question = \"How can I reset my password?\"\n",
    "result = qa_chain({\"query\": question}) \n",
    "\n",
    "# Extract the answer and source documents\n",
    "answer = result[\"result\"]\n",
    "source_documents = result[\"source_documents\"]\n",
    "\n",
    "# Print the top 2 source documents with page number and content snippet\n",
    "for idx, doc in enumerate(source_documents, 1):\n",
    "    # Adjust the page number from 0-indexed to 1-indexed\n",
    "    page_num = doc.metadata.get(\"page\", \"Unknown Page\")\n",
    "    if isinstance(page_num, int):\n",
    "        page_num += 1\n",
    "    \n",
    "    print(f\"\\nDocument {idx}:\")\n",
    "    print(f\"Source: {doc.metadata.get('source', 'Unknown Source')} (Page {page_num})\")\n",
    "    print(f\"Content Snippet: {doc.page_content[:1000]}...\")\n",
    "\n"
   ]
  },
  {
   "cell_type": "markdown",
   "metadata": {},
   "source": [
    "## Define tools"
   ]
  },
  {
   "cell_type": "code",
   "execution_count": 310,
   "metadata": {},
   "outputs": [],
   "source": [
    "from langchain.agents import Tool\n",
    "from duckduckgo_search import DDGS\n",
    "\n",
    "# Custom DuckDuckGo Chat Function\n",
    "def duckduckgo_chat_function(query: str) -> str:\n",
    "    \"\"\"Function to use DuckDuckGo's chat capabilities.\"\"\"\n",
    "    # Call DDGS().chat with the specified model\n",
    "    return DDGS().chat(query, model='claude-3-haiku')\n",
    "\n",
    "# DuckDuckGo Internet Search Tool\n",
    "duckduckgo_tool = Tool(\n",
    "    name=\"Internet Search\",\n",
    "    description=\"Search the internet for answers using DuckDuckGo\",\n",
    "    func=duckduckgo_chat_function\n",
    ")\n",
    "\n",
    "# Knowledge Base Search Tool (retriever from Chroma vector store)\n",
    "knowledge_base_tool = Tool(\n",
    "    name=\"Knowledge Base Search (BonBon FAQ)\",\n",
    "    description=\"Search the BonBon FAQ.pdf\",\n",
    "    func=vectordb.as_retriever(search_kwargs={\"k\": 1}).get_relevant_documents\n",
    ")\n",
    "\n",
    "tools = [duckduckgo_tool, knowledge_base_tool]\n"
   ]
  },
  {
   "cell_type": "markdown",
   "metadata": {},
   "source": [
    "## Define prompt template"
   ]
  },
  {
   "cell_type": "code",
   "execution_count": 2,
   "metadata": {},
   "outputs": [
    {
     "name": "stderr",
     "output_type": "stream",
     "text": [
      "/home/tuan/miniconda3/envs/langchain/lib/python3.11/site-packages/langsmith/client.py:354: LangSmithMissingAPIKeyWarning: API key must be provided when using hosted LangSmith API\n",
      "  warnings.warn(\n"
     ]
    },
    {
     "name": "stdout",
     "output_type": "stream",
     "text": [
      "Answer the following questions as best you can. You have access to the following tools:\n",
      "\n",
      "{tools}\n",
      "\n",
      "Use the following format:\n",
      "\n",
      "Question: the input question you must answer\n",
      "Thought: you should always think about what to do\n",
      "Action: the action to take, should be one of [{tool_names}]\n",
      "Action Input: the input to the action\n",
      "Observation: the result of the action\n",
      "... (this Thought/Action/Action Input/Observation can repeat N times)\n",
      "Thought: I now know the final answer\n",
      "Final Answer: the final answer to the original input question\n",
      "\n",
      "Begin!\n",
      "\n",
      "Question: {input}\n",
      "Thought:{agent_scratchpad}\n"
     ]
    }
   ],
   "source": [
    "from langchain import hub\n",
    "\n",
    "template = \"\"\"\n",
    "Answer the following questions as best you can. You can use history {chat_history} to fill in unknown context. You have access to the following tools:\n",
    "\n",
    "{tools}\n",
    "\n",
    "Use the following format:\n",
    "Remember: If any invalid format occurs, terminate and return answer\n",
    "Question: the input question you must answer\n",
    "Thought: you should always think about what to do\n",
    "Action (if existed): the action to take, find in Search BonBon tool first, then should be one of [{tool_names}] (one of [Internet Search, Knowledge Base Search (BonBon FAQ)]). If not, terminate answer\n",
    "Action Input (if presented): the input to the action\n",
    "Observation: the result of the action\n",
    "... (this Thought/Action/Action Input/Observation can repeat at most 5 times.)\n",
    "Thought: I now know the final answer. Let's return the answer\n",
    "Final Answer: the final answer to the original input question. If use Search BonBon then include the page of the PDF file that has the question\n",
    "\n",
    "Important: These keywords must never be translated and transformed. If one or some of them are not found, \n",
    "do not show that line and continue to the next line. If the final answer is not found, return \"Answer not found\". Do \n",
    "not concatenate these lines with the previous or next lines. Do not show repetitive answers or questions.\n",
    "- Question:\n",
    "- Action:\n",
    "- Thought:\n",
    "- Action Input:\n",
    "- Observation:\n",
    "- Final Answer:\n",
    "\n",
    "Remember: Remember to return the page number of the PDF file that has the question if you use the BonBon FAQ.\n",
    "\n",
    "Remember: Add newline before print out the 'Final Answer' and the 'Thought', and after the action input has been provided.\n",
    "\n",
    "Begin!\n",
    "\n",
    "Current conversation:\n",
    "Chat History:\n",
    "{chat_history}\n",
    "Last line:\n",
    "Human: {input}\n",
    "Thought: {agent_scratchpad}\n",
    "\"\"\"\n",
    "prompt_react = hub.pull(\"hwchase17/react\")\n",
    "prompt_react.template \n",
    "\n",
    "print(prompt_react.template)"
   ]
  },
  {
   "cell_type": "markdown",
   "metadata": {},
   "source": [
    "## Define the Agent with Conversational Memory"
   ]
  },
  {
   "cell_type": "code",
   "execution_count": 312,
   "metadata": {},
   "outputs": [],
   "source": [
    "from langchain.memory import ConversationBufferMemory\n",
    "from langchain.agents import AgentExecutor\n",
    "from langchain.agents import create_react_agent\n",
    "\n",
    "react_agent = create_react_agent(llm=llm, tools=tools, prompt=prompt_react)\n",
    "\n",
    "# Define the Conversational ReAct agent with tools\n",
    "conversational_agent = AgentExecutor(\n",
    "    agent=react_agent,\n",
    "    tools=tools,\n",
    "    verbose=True,\n",
    "    handle_parsing_errors=True,\n",
    "    memory = ConversationBufferMemory(memory_key=\"chat_history\", return_messages=True),\n",
    "    max_iterations=3,\n",
    ")\n",
    "\n"
   ]
  },
  {
   "cell_type": "markdown",
   "metadata": {},
   "source": [
    "## Chatbot interaction"
   ]
  },
  {
   "cell_type": "code",
   "execution_count": 313,
   "metadata": {},
   "outputs": [
    {
     "name": "stdout",
     "output_type": "stream",
     "text": [
      "\n",
      "\n",
      "\u001b[1m> Entering new AgentExecutor chain...\u001b[0m\n",
      "\u001b[32;1m\u001b[1;3mQuestion: why does sun light at 12 am so dangerous\n",
      "Thought: Sunlight at 12 AM is not possible because it is nighttime. It seems there might be a misunderstanding or a typo in the question. The user might be referring to sunlight at 12 PM (noon) instead. I will clarify this with the user.\n",
      "\n",
      "Final Answer: Sunlight at 12 AM is not possible because it is nighttime. If you meant 12 PM (noon), sunlight can be dangerous due to the high intensity of UV radiation, which can cause skin damage and increase the risk of skin cancer.\u001b[0m\n",
      "\n",
      "\u001b[1m> Finished chain.\u001b[0m\n",
      "\n",
      "\n",
      "\u001b[1m> Entering new AgentExecutor chain...\u001b[0m\n",
      "\u001b[32;1m\u001b[1;3mQuestion: why does sun light at 12 pm so dangerous\n",
      "Thought: I should search the BonBon FAQ first to see if this question is addressed there.\n",
      "Action: Knowledge Base Search (BonBon FAQ)\n",
      "Action Input: why does sun light at 12 pm so dangerous\n",
      "\u001b[0m\u001b[33;1m\u001b[1;3m[Document(metadata={'page': 6, 'source': 'data/BonBon FAQ.pdf'}, page_content='. \\nOpen the Task Manager (Ctrl+Shift+Esc on Windows) and go to the \"Startup\" tab. Disable any \\nunnecessary programs from starting up.  \\n5. Disable visual effects:')]\u001b[0m\u001b[32;1m\u001b[1;3mQuestion: why does sun light at 12 pm so dangerous\n",
      "Thought: The BonBon FAQ did not provide relevant information. I should perform an internet search to find the answer.\n",
      "Action: Internet Search\n",
      "Action Input: why is sunlight at 12 pm so dangerous\n",
      "\u001b[0m\u001b[36;1m\u001b[1;3mHere are a few reasons why sunlight at 12 pm can be dangerous:\n",
      "\n",
      "1. UV Radiation: The sun's ultraviolet (UV) radiation is strongest around midday, typically between 10 am and 2 pm. Prolonged exposure to this intense UV radiation can damage the skin and eyes, leading to sunburns, premature aging, and an increased risk of skin cancer.\n",
      "\n",
      "2. Heat Exposure: The sun's rays are most direct and intense at midday, resulting in higher temperatures. Prolonged exposure to this intense heat can lead to heat exhaustion, heat stroke, and other heat-related illnesses, especially in vulnerable populations such as the elderly, young children, and those with certain medical conditions.\n",
      "\n",
      "3. Dehydration: The combination of intense sunlight and heat can cause rapid fluid loss through sweating, leading to dehydration. Dehydration can cause dizziness, headaches, and other health problems if not addressed.\n",
      "\n",
      "4. Photosensitivity: Some medications and medical conditions can make people more sensitive to the sun's rays, increasing the risk of sunburn and other skin reactions during midday hours.\n",
      "\n",
      "It's important to take precautions when spending time outdoors during the midday hours, such as seeking shade, wearing protective clothing, using sunscreen, and staying hydrated. Avoiding prolonged exposure to the sun's most intense rays can help reduce the risk of these potential dangers.\u001b[0m\u001b[32;1m\u001b[1;3mFinal Answer:\n",
      "\n",
      "Sunlight at 12 PM can be dangerous for several reasons:\n",
      "\n",
      "1. **UV Radiation**: The sun's ultraviolet (UV) radiation is strongest around midday, typically between 10 AM and 2 PM. Prolonged exposure to this intense UV radiation can damage the skin and eyes, leading to sunburns, premature aging, and an increased risk of skin cancer.\n",
      "\n",
      "2. **Heat Exposure**: The sun's rays are most direct and intense at midday, resulting in higher temperatures. Prolonged exposure to this intense heat can lead to heat exhaustion, heat stroke, and other heat-related illnesses, especially in vulnerable populations such as the elderly, young children, and those with certain medical conditions.\n",
      "\n",
      "3. **Dehydration**: The combination of intense sunlight and heat can cause rapid fluid loss through sweating, leading to dehydration. Dehydration can cause dizziness, headaches, and other health problems if not addressed.\n",
      "\n",
      "4. **Photosensitivity**: Some medications and medical conditions can make people more sensitive to the sun's rays, increasing the risk of sunburn and other skin reactions during midday hours.\n",
      "\n",
      "It's important to take precautions when spending time outdoors during the midday hours, such as seeking shade, wearing protective clothing, using sunscreen, and staying hydrated. Avoiding prolonged exposure to the sun's most intense rays can help reduce the risk of these potential dangers.\u001b[0m\n",
      "\n",
      "\u001b[1m> Finished chain.\u001b[0m\n",
      "\n",
      "\n",
      "\u001b[1m> Entering new AgentExecutor chain...\u001b[0m\n",
      "\u001b[32;1m\u001b[1;3mQuestion: what about 6 am\n",
      "Thought: I should consider the context of sunlight at 6 AM and its potential dangers. \n",
      "\n",
      "Sunlight at 6 AM is generally less intense compared to midday. However, there are still some considerations to keep in mind:\n",
      "\n",
      "1. **UV Radiation**: While UV radiation is not as strong at 6 AM as it is at midday, it is still present. Prolonged exposure without protection can still lead to skin damage over time.\n",
      "\n",
      "2. **Temperature**: Early morning temperatures are usually cooler, reducing the risk of heat-related illnesses compared to midday.\n",
      "\n",
      "3. **Dehydration**: Although the risk of dehydration is lower in the early morning, it is still important to stay hydrated, especially if engaging in physical activities.\n",
      "\n",
      "4. **Photosensitivity**: Individuals who are photosensitive due to medications or medical conditions should still take precautions, as UV radiation is present throughout the day.\n",
      "\n",
      "Final Answer: Sunlight at 6 AM is generally less intense and poses fewer risks compared to midday. However, UV radiation is still present, so it is important to take precautions such as wearing sunscreen and staying hydrated, especially if engaging in outdoor activities.\u001b[0m\n",
      "\n",
      "\u001b[1m> Finished chain.\u001b[0m\n",
      "\n",
      "\n",
      "\u001b[1m> Entering new AgentExecutor chain...\u001b[0m\n",
      "\u001b[32;1m\u001b[1;3mThought: I need to find information about the vitamins present in apples. I will first search the BonBon FAQ to see if this information is available there.\n",
      "\n",
      "Action: Knowledge Base Search (BonBon FAQ)\n",
      "\n",
      "Action Input: vitamins in apple\u001b[0m\u001b[33;1m\u001b[1;3m[Document(metadata={'page': 6, 'source': 'data/BonBon FAQ.pdf'}, page_content='.\" Go to the \"Advanced\"  tab again and click \\non \"Change\" under Virtual Memory. Adjust the settings based on your system\\'s specifications or \\nlet Windows manage it automatically.  \\n8. Upgrade hardware components:  \\n• If your computer continues to run slowly after performing the above steps, consider \\nupgrading hardware components such as adding more RAM or replacing the hard drive with a \\nsolid -state drive (SSD). Consult with a professional or refer to your computer\\'s documentation \\nfor compatibility and installation instructions.  \\n9. Regularly maintain your computer:  \\n• Perform regular disk cleanup, disk defragmentation (if using a traditional hard drive), \\nand system maintenance tasks. These tasks can optimize performance and improve overall \\nstability.  \\n \\n6) Q: How do I install a software application?  \\nA: \\n1. Any Corp does not permit the installation of software applications without prior approval.  \\n2. Please check Any Corp’s Intranet page > Approved Software Catalogue  \\n3')]\u001b[0m\u001b[32;1m\u001b[1;3mThought: The BonBon FAQ did not provide information about the vitamins in apples. I will now use an internet search to find this information.\n",
      "\n",
      "Action: Internet Search\n",
      "\n",
      "Action Input: vitamins in apple\u001b[0m\u001b[36;1m\u001b[1;3mHere are some of the key vitamins found in apples:\n",
      "\n",
      "- Vitamin C - Apples contain a good amount of vitamin C, with one medium apple providing around 8-10% of the recommended daily intake.\n",
      "\n",
      "- Vitamin K - Apples contain a small amount of vitamin K, providing around 2-3% of the daily recommended intake per medium apple.\n",
      "\n",
      "- Vitamin B6 - Apples contain a small amount of vitamin B6, with one medium apple providing around 3% of the daily recommended intake.\n",
      "\n",
      "- Folate - Apples contain a small amount of folate, providing around 2-3% of the daily recommended intake per medium apple.\n",
      "\n",
      "Apples also contain other beneficial nutrients like:\n",
      "\n",
      "- Fiber - Apples are a good source of dietary fiber, with one medium apple containing around 4-5 grams of fiber.\n",
      "\n",
      "- Antioxidants - Apples are rich in various antioxidant compounds like polyphenols that can provide health benefits.\n",
      "\n",
      "So in summary, while apples are not an exceptionally high source of vitamins, they do contain small to moderate amounts of several important vitamins as part of a healthy, balanced diet. The fiber and antioxidants in apples also make them a nutritious fruit choice.\u001b[0m\u001b[32;1m\u001b[1;3mFinal Answer:\n",
      "\n",
      "Here are some of the key vitamins found in apples:\n",
      "\n",
      "- **Vitamin C**: Apples contain a good amount of vitamin C, with one medium apple providing around 8-10% of the recommended daily intake.\n",
      "- **Vitamin K**: Apples contain a small amount of vitamin K, providing around 2-3% of the daily recommended intake per medium apple.\n",
      "- **Vitamin B6**: Apples contain a small amount of vitamin B6, with one medium apple providing around 3% of the daily recommended intake.\n",
      "- **Folate**: Apples contain a small amount of folate, providing around 2-3% of the daily recommended intake per medium apple.\n",
      "\n",
      "Apples also contain other beneficial nutrients like:\n",
      "\n",
      "- **Fiber**: Apples are a good source of dietary fiber, with one medium apple containing around 4-5 grams of fiber.\n",
      "- **Antioxidants**: Apples are rich in various antioxidant compounds like polyphenols that can provide health benefits.\n",
      "\n",
      "So in summary, while apples are not an exceptionally high source of vitamins, they do contain small to moderate amounts of several important vitamins as part of a healthy, balanced diet. The fiber and antioxidants in apples also make them a nutritious fruit choice.\u001b[0m\n",
      "\n",
      "\u001b[1m> Finished chain.\u001b[0m\n",
      "\n",
      "\n",
      "\u001b[1m> Entering new AgentExecutor chain...\u001b[0m\n",
      "\u001b[32;1m\u001b[1;3mQuestion: how can i reset my password\n",
      "Thought: I should search the BonBon FAQ to find specific instructions on how to reset a password.\n",
      "Action: Knowledge Base Search (BonBon FAQ)\n",
      "Action Input: reset password\n",
      "\u001b[0m\u001b[33;1m\u001b[1;3m[Document(metadata={'page': 3, 'source': 'data/BonBon FAQ.pdf'}, page_content=\".  \\n• Remember, the priority levels may vary based on the organization's policies and the nature \\nof the incident. It's important to have well -defined criteria for determining the priority of \\nincidents so that the Service Desk team can effectively allocate resour ces and provide timely \\nsupport.  \\n \\nFrequently Asked Questions:  \\n \\n1) Q: How do I reset my password?  \\nA: Go to “Where to Reset my Password for which application” web page @ the following link – \\nwww.anycorp.intranet.passwordreset/com . There you will be able to select application for which you \\nneed to reset your password and will receive further instructions.\")]\u001b[0m\u001b[32;1m\u001b[1;3mFinal Answer: To reset your password, go to the \"Where to Reset my Password for which application\" web page at the following link: www.anycorp.intranet.passwordreset/com. There you will be able to select the application for which you need to reset your password and will receive further instructions. (BonBon FAQ, page 3)\u001b[0m\n",
      "\n",
      "\u001b[1m> Finished chain.\u001b[0m\n",
      "\n",
      "\n",
      "\u001b[1m> Entering new AgentExecutor chain...\u001b[0m\n",
      "\u001b[32;1m\u001b[1;3mQuestion: how to recover deleted file\n",
      "Thought: I should search the BonBon FAQ to see if there is any information on recovering deleted files.\n",
      "Action: Knowledge Base Search (BonBon FAQ)\n",
      "Action Input: recover deleted file\u001b[0m\u001b[33;1m\u001b[1;3m[Document(metadata={'page': 5, 'source': 'data/BonBon FAQ.pdf'}, page_content='. Can it be recovered?  \\nA:  \\n1. Check the Recycle Bin or Trash:  \\n• Windows: Open the Recycle Bin by double -clicking its icon on the desktop. Locate the \\ndeleted file, right -click on it, and select \"Restore\" to return it to its original location.  \\n• Mac: Open the Trash by clicking on its icon in the Dock. Find the deleted file, right -click \\non it, and choose \"Put Back\" to restore it to its original location.')]\u001b[0m\u001b[32;1m\u001b[1;3mFinal Answer: \n",
      "\n",
      "To recover a deleted file, you can follow these steps:\n",
      "\n",
      "1. **Check the Recycle Bin or Trash**:\n",
      "   - **Windows**: Open the Recycle Bin by double-clicking its icon on the desktop. Locate the deleted file, right-click on it, and select \"Restore\" to return it to its original location.\n",
      "   - **Mac**: Open the Trash by clicking on its icon in the Dock. Find the deleted file, right-click on it, and choose \"Put Back\" to restore it to its original location.\n",
      "\n",
      "(BonBon FAQ, page 5)\u001b[0m\n",
      "\n",
      "\u001b[1m> Finished chain.\u001b[0m\n",
      "\n",
      "\n",
      "\u001b[1m> Entering new AgentExecutor chain...\u001b[0m\n",
      "\u001b[32;1m\u001b[1;3mQuestion: hello\n",
      "Thought: The user has greeted me. I will respond with a greeting.\n",
      "Final Answer: Hello! How can I assist you today?\u001b[0m\n",
      "\n",
      "\u001b[1m> Finished chain.\u001b[0m\n",
      "\n",
      "\n",
      "\u001b[1m> Entering new AgentExecutor chain...\u001b[0m\n",
      "\u001b[32;1m\u001b[1;3mFinal Answer: Goodbye! If you have any more questions in the future, feel free to ask. Have a great day!\u001b[0m\n",
      "\n",
      "\u001b[1m> Finished chain.\u001b[0m\n",
      "Chatbot: Goodbye!\n"
     ]
    }
   ],
   "source": [
    "# Chatbot interaction loop\n",
    "while True:\n",
    "    user_input = input(\"input: \")\n",
    "    \n",
    "    # Exit condition\n",
    "    if user_input.lower() in ['exit', 'quit']:\n",
    "        print(\"Chatbot: Goodbye!\")\n",
    "        break\n",
    "    \n",
    "    # Process user input through the agent\n",
    "    response = conversational_agent.invoke({\"input\": user_input})\n",
    "\n",
    "    \n"
   ]
  }
 ],
 "metadata": {
  "kernelspec": {
   "display_name": "langchain",
   "language": "python",
   "name": "python3"
  },
  "language_info": {
   "codemirror_mode": {
    "name": "ipython",
    "version": 3
   },
   "file_extension": ".py",
   "mimetype": "text/x-python",
   "name": "python",
   "nbconvert_exporter": "python",
   "pygments_lexer": "ipython3",
   "version": "3.11.9"
  }
 },
 "nbformat": 4,
 "nbformat_minor": 2
}
